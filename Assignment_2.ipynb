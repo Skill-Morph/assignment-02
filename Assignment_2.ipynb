{
  "nbformat": 4,
  "nbformat_minor": 0,
  "metadata": {
    "colab": {
      "provenance": [],
      "toc_visible": true
    },
    "kernelspec": {
      "name": "python3",
      "display_name": "Python 3"
    },
    "language_info": {
      "name": "python"
    }
  },
  "cells": [
    {
      "cell_type": "markdown",
      "source": [
        "# Assignment 2"
      ],
      "metadata": {
        "id": "vQvuz3_3Ow2g"
      }
    },
    {
      "cell_type": "code",
      "source": [
        "# @title Problem 2.1\n",
        "\n",
        "name = 'Ariful Islam'\n",
        "age = 27\n",
        "favColor = 'Black'\n",
        "\n",
        "print(\"Name \", name)\n",
        "print(\"Age \", age)\n",
        "print(\"Favorite Color \", favColor)\n"
      ],
      "metadata": {
        "colab": {
          "base_uri": "https://localhost:8080/"
        },
        "cellView": "form",
        "id": "kdegBABCM2Cg",
        "outputId": "2a435875-fd75-4993-dfa6-986a8c054fa8"
      },
      "execution_count": 1,
      "outputs": [
        {
          "output_type": "stream",
          "name": "stdout",
          "text": [
            "Name  Ariful Islam\n",
            "Age  27\n",
            "Favorite Color  Black\n"
          ]
        }
      ]
    },
    {
      "cell_type": "code",
      "source": [
        "# @title Problem 2.2\n",
        "\n",
        "# string\n",
        "name = 'Ariful Islam'\n",
        "\n",
        "# Boolean\n",
        "isTrue = True\n",
        "\n",
        "# Number\n",
        "age = 27\n",
        "\n",
        "# None\n",
        "performance = None\n",
        "\n",
        "\n",
        "print(type(name))\n",
        "print(type(isTrue))\n",
        "print(type(age))\n",
        "print(type(performance))\n",
        "\n"
      ],
      "metadata": {
        "colab": {
          "base_uri": "https://localhost:8080/"
        },
        "outputId": "eaf2d6a4-749d-4cf5-aaec-99e6bdc30bb5",
        "cellView": "form",
        "id": "GfkiALYsPL0J"
      },
      "execution_count": 3,
      "outputs": [
        {
          "output_type": "stream",
          "name": "stdout",
          "text": [
            "<class 'str'>\n",
            "<class 'bool'>\n",
            "<class 'int'>\n",
            "<class 'NoneType'>\n"
          ]
        }
      ]
    },
    {
      "cell_type": "code",
      "source": [
        "# @title Problem 2.3\n",
        "\n",
        "# Calculate the area of a rectangle\n",
        "\n",
        "length = 7\n",
        "width = 5\n",
        "area = length * width\n",
        "print(\"The area of a rectangle\" , area)\n",
        "\n",
        "# Calculate the perimeter of a rectangle\n",
        "\n",
        "perimeter = 2 * (length + width)\n",
        "print(\"The perimeter of a rectangle\" , perimeter)\n"
      ],
      "metadata": {
        "colab": {
          "base_uri": "https://localhost:8080/"
        },
        "outputId": "c1b0e9c6-dddb-40e1-ec10-50347bc1778d",
        "cellView": "form",
        "id": "U4BJ3QU7QXY7"
      },
      "execution_count": 6,
      "outputs": [
        {
          "output_type": "stream",
          "name": "stdout",
          "text": [
            "The area of a rectangle 35\n",
            "The perimeter of a rectangle 24\n"
          ]
        }
      ]
    },
    {
      "cell_type": "code",
      "source": [
        "# @title Problem 2.4\n",
        "\n",
        "foodsName = ['Biryani', 'Bhuna Khichuri', 'Aloo Bhorta', 'Tehari', 'Kacchi']\n",
        "\n",
        "print(foodsName[0])\n",
        "print(foodsName[4])\n"
      ],
      "metadata": {
        "colab": {
          "base_uri": "https://localhost:8080/"
        },
        "outputId": "ef6bba79-86f5-4cc2-8668-1f21c2c53285",
        "cellView": "form",
        "id": "r8qFN43DV0Cx"
      },
      "execution_count": 8,
      "outputs": [
        {
          "output_type": "stream",
          "name": "stdout",
          "text": [
            "Biryani\n",
            "Kacchi\n"
          ]
        }
      ]
    },
    {
      "cell_type": "code",
      "source": [
        "# @title Problem 2.5\n",
        "\n",
        "numbers = [2,6,4,9,6]\n",
        "\n",
        "print(numbers)\n",
        "# number add\n",
        "numbers.append(10)\n",
        "print(numbers)\n",
        "\n",
        "# number remove\n",
        "numbers.remove(6)\n",
        "print(numbers)\n",
        "\n",
        "# number sort\n",
        "\n",
        "numbers.sort()\n",
        "print(numbers)\n"
      ],
      "metadata": {
        "colab": {
          "base_uri": "https://localhost:8080/"
        },
        "outputId": "d9d1a55b-84dd-4213-9627-01e63a55ecbd",
        "cellView": "form",
        "id": "ErRBWyYGXcQ_"
      },
      "execution_count": 14,
      "outputs": [
        {
          "output_type": "stream",
          "name": "stdout",
          "text": [
            "[2, 6, 4, 9, 6]\n",
            "[2, 6, 4, 9, 6, 10]\n",
            "[2, 4, 9, 6, 10]\n",
            "[2, 4, 6, 9, 10]\n"
          ]
        }
      ]
    },
    {
      "cell_type": "code",
      "source": [
        "# @title Problem 2.6\n",
        "\n",
        "myStudentInfo = {\n",
        "    \"myName\":\"Arifui Islam\",\n",
        "    \"myUniversityName\": \"Sonargaon University\",\n",
        "    \"Department\":\"B.Sc. in CSE\",\n",
        "    \"Courses\":\"C Programming, DS, Algo, Java\",\n",
        "    \"myEmail\":\"arifulislamwasim@gmial.com\"\n",
        "}\n",
        "\n",
        "print(myStudentInfo)\n"
      ],
      "metadata": {
        "colab": {
          "base_uri": "https://localhost:8080/"
        },
        "outputId": "9eb3b4bd-4b97-4c10-d81b-2962810e7299",
        "cellView": "form",
        "id": "xM0_pebFXokK"
      },
      "execution_count": 17,
      "outputs": [
        {
          "output_type": "stream",
          "name": "stdout",
          "text": [
            "{'myName': 'Arifui Islam', 'myUniversityName': 'Sonargaon University', 'Department': 'B.Sc. in CSE', 'Courses': 'C Programming, DS, Algo, Java', 'myEmail': 'arifulislamwasim@gmial.com'}\n"
          ]
        }
      ]
    },
    {
      "cell_type": "code",
      "source": [
        "# @title Problem 2.7\n",
        "\n",
        "dhakaCoordinates = (23.72, 90.40)\n",
        "print(dhakaCoordinates)\n",
        "\n"
      ],
      "metadata": {
        "colab": {
          "base_uri": "https://localhost:8080/"
        },
        "outputId": "5573eb1e-1f41-4c37-87ba-05d5d1afed34",
        "cellView": "form",
        "id": "mo4dQHJ_Xoya"
      },
      "execution_count": 18,
      "outputs": [
        {
          "output_type": "stream",
          "name": "stdout",
          "text": [
            "(23.72, 90.4)\n"
          ]
        }
      ]
    },
    {
      "cell_type": "code",
      "source": [
        "# @title Problem 2.8\n",
        "\n",
        "colorOne = {\"Crimson\", \"Red\", \"Black\",\"Purple\"}\n",
        "colorTwo = {\"Blue\",\"White\", \"Orange\", \"Black\"}\n",
        "\n",
        "print(\"Union : \", colorOne | colorTwo)\n",
        "print(\"Intersection : \", colorOne & colorTwo)\n"
      ],
      "metadata": {
        "colab": {
          "base_uri": "https://localhost:8080/"
        },
        "outputId": "1ae4de4a-4450-4ce3-a354-cfb3d26e2c2a",
        "cellView": "form",
        "id": "q_HNgZmIXqWN"
      },
      "execution_count": 22,
      "outputs": [
        {
          "output_type": "stream",
          "name": "stdout",
          "text": [
            "Union :  {'Blue', 'Black', 'Orange', 'Crimson', 'Red', 'Purple', 'White'}\n",
            "Intersection :  {'Black'}\n"
          ]
        }
      ]
    },
    {
      "cell_type": "code",
      "source": [
        "# @title Problem 2.9\n",
        "\n",
        "num = 10\n",
        "\n",
        "if num > 0:\n",
        "  print(\"Positive\")\n",
        "elif num < 0:\n",
        "  print(\"Negative\")\n",
        "else:\n",
        "  print(\"Zero\")\n"
      ],
      "metadata": {
        "colab": {
          "base_uri": "https://localhost:8080/"
        },
        "outputId": "e63a41fd-3d6a-4deb-c6aa-6e958a170a49",
        "cellView": "form",
        "id": "6kiWgfj1Xqgb"
      },
      "execution_count": 26,
      "outputs": [
        {
          "output_type": "stream",
          "name": "stdout",
          "text": [
            "Positive\n"
          ]
        }
      ]
    },
    {
      "cell_type": "code",
      "source": [
        "# @title Problem 2.10\n",
        "\n",
        "student = False\n",
        "studentAge = 20\n",
        "\n",
        "senior = True\n",
        "seniorAge = 65\n",
        "\n",
        "\n",
        "if student == True:\n",
        "  if studentAge < 25:\n",
        "    print(\"Discount Possible\")\n",
        "else:\n",
        "  print(\"Discount Not Possible\")\n",
        "\n",
        "if senior == True:\n",
        "  if seniorAge > 60:\n",
        "    print(\"Discount Possible\")\n",
        "else:\n",
        "  print(\"Discount Not Possible\")\n"
      ],
      "metadata": {
        "colab": {
          "base_uri": "https://localhost:8080/"
        },
        "outputId": "99c9ee5b-2f74-4bb6-93e8-35172f906e47",
        "cellView": "form",
        "id": "8Veu1LbVXqpp"
      },
      "execution_count": 30,
      "outputs": [
        {
          "output_type": "stream",
          "name": "stdout",
          "text": [
            "Discount Not Possible\n",
            "Discount Possible\n"
          ]
        }
      ]
    },
    {
      "cell_type": "code",
      "source": [
        "# @title Problem 2.11\n",
        "\n",
        "num = int(input(\"Enter Your Number : \"))\n",
        "\n",
        "for x in range(1,num+1,1):\n",
        "  if x % 2 == 0:\n",
        "    print(x)\n"
      ],
      "metadata": {
        "colab": {
          "base_uri": "https://localhost:8080/"
        },
        "outputId": "47655fb1-39a8-4bda-ff33-fd92fc0187ff",
        "cellView": "form",
        "id": "PyXXkn0oXqzg"
      },
      "execution_count": 32,
      "outputs": [
        {
          "output_type": "stream",
          "name": "stdout",
          "text": [
            "Enter Your Number : 10\n",
            "2\n",
            "4\n",
            "6\n",
            "8\n",
            "10\n"
          ]
        }
      ]
    },
    {
      "cell_type": "code",
      "source": [
        "# @title Problem 2.12\n",
        "\n",
        "\n",
        "# Number of rows\n",
        "rows = 5\n",
        "\n",
        "for i in range(1, rows + 1):\n",
        "\n",
        "    for j in range(rows - i):\n",
        "        print(\" \", end=\" \")\n",
        "\n",
        "    for k in range(1, i + 1):\n",
        "        print(k, end=\" \")\n",
        "\n",
        "    for k in range(i - 1, 0, -1):\n",
        "        print(k, end=\" \")\n",
        "\n",
        "    print()\n",
        "\n"
      ],
      "metadata": {
        "colab": {
          "base_uri": "https://localhost:8080/"
        },
        "outputId": "37a8fc0f-0224-4cad-dc86-d68e9b6a0416",
        "cellView": "form",
        "id": "q5Li9wTHXq9G"
      },
      "execution_count": 62,
      "outputs": [
        {
          "output_type": "stream",
          "name": "stdout",
          "text": [
            "        1 \n",
            "      1 2 1 \n",
            "    1 2 3 2 1 \n",
            "  1 2 3 4 3 2 1 \n",
            "1 2 3 4 5 4 3 2 1 \n"
          ]
        }
      ]
    },
    {
      "cell_type": "code",
      "source": [
        "# @title Problem 2.13\n",
        "\n",
        "def temperature(c):\n",
        "  f = (c*9/5)+32\n",
        "  print(\"Temperature : \", f)\n",
        "temperature(50)\n"
      ],
      "metadata": {
        "colab": {
          "base_uri": "https://localhost:8080/"
        },
        "outputId": "363e6441-b1e1-4b8c-d561-fc35e4bd78cf",
        "cellView": "form",
        "id": "KsM6QbOZXrF0"
      },
      "execution_count": 63,
      "outputs": [
        {
          "output_type": "stream",
          "name": "stdout",
          "text": [
            "Temperature :  122.0\n"
          ]
        }
      ]
    },
    {
      "cell_type": "code",
      "source": [
        "# @title Problem 2.14\n",
        "\n",
        "def area(l=7,w=5):\n",
        "  A = l * w\n",
        "  print(\"area of a rectangle : \", A)\n",
        "\n",
        "area()\n"
      ],
      "metadata": {
        "colab": {
          "base_uri": "https://localhost:8080/"
        },
        "outputId": "922e7d3a-a0f0-438d-8c57-f79c826f607b",
        "cellView": "form",
        "id": "3JcfKKrAXrPH"
      },
      "execution_count": 66,
      "outputs": [
        {
          "output_type": "stream",
          "name": "stdout",
          "text": [
            "area of a rectangle :  35\n"
          ]
        }
      ]
    }
  ]
}